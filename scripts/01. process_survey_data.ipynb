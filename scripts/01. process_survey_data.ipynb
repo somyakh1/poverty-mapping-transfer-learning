{
 "cells": [
  {
   "cell_type": "code",
   "execution_count": 1,
   "id": "e71a8229",
   "metadata": {},
   "outputs": [],
   "source": [
    "import os\n",
    "import numpy as np\n",
    "from osgeo import gdal, osr\n",
    "import pandas as pd"
   ]
  },
  {
   "cell_type": "code",
   "execution_count": 2,
   "id": "aee79df8",
   "metadata": {},
   "outputs": [],
   "source": [
    "import geoio"
   ]
  },
  {
   "cell_type": "code",
   "execution_count": 3,
   "id": "0a4dc3ce",
   "metadata": {},
   "outputs": [],
   "source": [
    "BASE_DIR = '..'\n",
    "NIGHTLIGHTS_DIRS = [os.path.join(BASE_DIR, 'data/nightlights/viirs_2015_00N060W.tif'),\n",
    "                    os.path.join(BASE_DIR, 'data/nightlights/viirs_2015_75N060W.tif')]\n",
    "\n",
    "COUNTRIES_DIR = os.path.join(BASE_DIR, 'data', 'countries')"
   ]
  },
  {
   "cell_type": "code",
   "execution_count": 4,
   "id": "6d1a439e",
   "metadata": {},
   "outputs": [],
   "source": [
    "import sys\n",
    "sys.path.append(BASE_DIR)\n",
    "from funcs import create_space"
   ]
  },
  {
   "cell_type": "code",
   "execution_count": 5,
   "id": "0133f60d",
   "metadata": {},
   "outputs": [],
   "source": [
    "'''\n",
    "The goal of each of these functions is to output a dataframe with the following columns:\n",
    "country, cluster_lat, cluster_lon, cons_pc\n",
    "\n",
    "Each row should represent one cluster by combining the household data\n",
    "'''\n",
    "\n",
    "def process_malawi():\n",
    "    lsms_dir = os.path.join(COUNTRIES_DIR, 'malawi_2016', 'LSMS')\n",
    "    consumption_file = 'consumption_aggregate/ihs4 consumption aggregate.csv'\n",
    "    consumption_ph_col = 'rexpagg' # per household\n",
    "    hhsize_col = 'hhsize' # people in household\n",
    "\n",
    "    geovariables_file = 'household_geovariables/householdgeovariablesihs4.csv'\n",
    "    lat_col = 'lat_modified'\n",
    "    lon_col = 'lon_modified'\n",
    "\n",
    "    # purchasing power parity for malawi in 2016 (https://data.worldbank.org/indicator/PA.NUS.PRVT.PP?locations=MW)\n",
    "    ppp = 215.182\n",
    "    \n",
    "    for file in [consumption_file, geovariables_file]:\n",
    "        assert os.path.isfile(os.path.join(lsms_dir, file)), print(f'Could not find {file}')\n",
    "    \n",
    "    df = pd.read_csv(os.path.join(lsms_dir, consumption_file))\n",
    "    df['cons_ph'] = df[consumption_ph_col]\n",
    "    df['pph'] = df[hhsize_col]\n",
    "    df['cons_ph'] = df['cons_ph'] / ppp / 365\n",
    "    df = df[['case_id', 'cons_ph', 'pph']]\n",
    "\n",
    "    df_geo = pd.read_csv(os.path.join(lsms_dir, geovariables_file))\n",
    "    df_cords = df_geo[['case_id', 'HHID', lat_col, lon_col]]\n",
    "    df_cords.rename(columns={lat_col: 'cluster_lat', lon_col: 'cluster_lon'}, inplace=True)\n",
    "    df_combined = pd.merge(df, df_cords, on='case_id')\n",
    "    df_combined.drop(['case_id', 'HHID'], axis=1, inplace=True)\n",
    "    df_combined.dropna(inplace=True) # can't use na values\n",
    "    \n",
    "    df_clusters = df_combined.groupby(['cluster_lat', 'cluster_lon']).sum().reset_index()\n",
    "    df_clusters['cons_pc'] = df_clusters['cons_ph'] / df_clusters['pph'] # divides total cluster income by people\n",
    "    df_clusters['country'] = 'mw'\n",
    "    return df_clusters[['country', 'cluster_lat', 'cluster_lon', 'cons_pc']]\n",
    "\n",
    "def process_ethiopia():\n",
    "    lsms_dir = os.path.join(COUNTRIES_DIR, 'ethiopia_2016', 'LSMS')\n",
    "    consumption_file = 'Consumption Aggregate/cons_agg_w3.csv'\n",
    "    consumption_pc_col = 'total_cons_ann' # per capita\n",
    "    hhsize_col = 'hh_size' # people in household\n",
    "\n",
    "    geovariables_file = 'Geovariables/ETH_HouseholdGeovars_y3.csv'\n",
    "    lat_col = 'lat_dd_mod'\n",
    "    lon_col = 'lon_dd_mod'\n",
    "\n",
    "    # purchasing power parity for ethiopia in 2015 (https://data.worldbank.org/indicator/PA.NUS.PRVT.PP?locations=ET)\n",
    "    ppp = 7.882\n",
    "    \n",
    "    for file in [consumption_file, geovariables_file]:\n",
    "        assert os.path.isfile(os.path.join(lsms_dir, file)), print(f'Could not find {file}')\n",
    "    \n",
    "    df = pd.read_csv(os.path.join(lsms_dir, consumption_file))\n",
    "    df['cons_ph'] = df[consumption_pc_col] * df[hhsize_col]\n",
    "    df['pph'] = df[hhsize_col]\n",
    "    df['cons_ph'] = df['cons_ph'] / ppp / 365\n",
    "    df = df[['household_id2', 'cons_ph', 'pph']]\n",
    "\n",
    "    df_geo = pd.read_csv(os.path.join(lsms_dir, geovariables_file))\n",
    "    df_cords = df_geo[['household_id2', lat_col, lon_col]]\n",
    "    df_cords.rename(columns={lat_col: 'cluster_lat', lon_col: 'cluster_lon'}, inplace=True)\n",
    "    df_combined = pd.merge(df, df_cords, on='household_id2')\n",
    "    df_combined.drop(['household_id2'], axis=1, inplace=True)\n",
    "    df_combined.dropna(inplace=True) # can't use na values\n",
    "    \n",
    "    df_clusters = df_combined.groupby(['cluster_lat', 'cluster_lon']).sum().reset_index()\n",
    "    df_clusters['cons_pc'] = df_clusters['cons_ph'] / df_clusters['pph'] # divides total cluster income by people\n",
    "    df_clusters['country'] = 'eth'\n",
    "    return df_clusters[['country', 'cluster_lat', 'cluster_lon', 'cons_pc']]\n",
    "\n",
    "def process_nigeria():\n",
    "    lsms_dir = os.path.join(COUNTRIES_DIR, 'nigeria_2016', 'LSMS')\n",
    "    consumption_file = 'cons_agg_wave3_visit1.csv'\n",
    "    consumption_pc_col = 'totcons' # per capita\n",
    "    hhsize_col = 'hhsize' # people in household\n",
    "\n",
    "    geovariables_file = 'nga_householdgeovars_y3.csv'\n",
    "    lat_col = 'LAT_DD_MOD'\n",
    "    lon_col = 'LON_DD_MOD'\n",
    "\n",
    "    # purchasing power parity for nigeria in 2015 (https://data.worldbank.org/indicator/PA.NUS.PRVT.PP?locations=NG)\n",
    "    ppp = 95.255\n",
    "    \n",
    "    for file in [consumption_file, geovariables_file]:\n",
    "        assert os.path.isfile(os.path.join(lsms_dir, file)), print(f'Could not find {file}')\n",
    "    \n",
    "    df = pd.read_csv(os.path.join(lsms_dir, consumption_file))\n",
    "    df['cons_ph'] = df[consumption_pc_col] * df[hhsize_col]\n",
    "    df['pph'] = df[hhsize_col]\n",
    "    df['cons_ph'] = df['cons_ph'] / ppp / 365\n",
    "    df = df[['hhid', 'cons_ph', 'pph']]\n",
    "\n",
    "    df_geo = pd.read_csv(os.path.join(lsms_dir, geovariables_file))\n",
    "    df_cords = df_geo[['hhid', lat_col, lon_col]]\n",
    "    df_cords.rename(columns={lat_col: 'cluster_lat', lon_col: 'cluster_lon'}, inplace=True)\n",
    "    df_combined = pd.merge(df, df_cords, on='hhid')\n",
    "    df_combined.drop(['hhid'], axis=1, inplace=True)\n",
    "    df_combined.dropna(inplace=True) # can't use na values\n",
    "    \n",
    "    df_clusters = df_combined.groupby(['cluster_lat', 'cluster_lon']).sum().reset_index()\n",
    "    df_clusters['cons_pc'] = df_clusters['cons_ph'] / df_clusters['pph'] # divides total cluster income by people\n",
    "    df_clusters['country'] = 'ng'\n",
    "    return df_clusters[['country', 'cluster_lat', 'cluster_lon', 'cons_pc']]"
   ]
  },
  {
   "cell_type": "markdown",
   "id": "9aafe819",
   "metadata": {},
   "source": [
    "'''\n",
    "The goal of each of these functions is to output a dataframe with the following columns:\n",
    "country, cluster_lat, cluster_lon, cons_pc\n",
    "\n",
    "Each row should represent one cluster by combining the household data\n",
    "'''\n",
    "\n",
    "def process_malawi():\n",
    "    lsms_dir = os.path.join(COUNTRIES_DIR, 'malawi_2019', 'LSMS')\n",
    "    consumption_file = 'ihs5_consumption_aggregate.csv'\n",
    "    consumption_ph_col = 'rexpagg' # per household\n",
    "    hhsize_col = 'hhsize' # people in household\n",
    "\n",
    "    geovariables_file = 'householdgeovariables_ihs5.csv'\n",
    "    lat_col = 'ea_lat_mod'\n",
    "    lon_col = 'ea_lon_mod'\n",
    "\n",
    "    # purchasing power parity for malawi in 2019 (https://data.worldbank.org/indicator/PA.NUS.PRVT.PP?locations=MW)\n",
    "    ppp = 285.2\n",
    "    \n",
    "    for file in [consumption_file, geovariables_file]:\n",
    "        assert os.path.isfile(os.path.join(lsms_dir, file)), print(f'Could not find {file}')\n",
    "    \n",
    "    df = pd.read_csv(os.path.join(lsms_dir, consumption_file))\n",
    "    df['cons_ph'] = df[consumption_ph_col]\n",
    "    df['pph'] = df[hhsize_col]\n",
    "    df['cons_ph'] = df['cons_ph'] / ppp / 365\n",
    "    df = df[['case_id', 'cons_ph', 'pph']]\n",
    "\n",
    "    df_geo = pd.read_csv(os.path.join(lsms_dir, geovariables_file))\n",
    "    df_cords = df_geo[['case_id', lat_col, lon_col]]\n",
    "    df_cords.rename(columns={lat_col: 'cluster_lat', lon_col: 'cluster_lon'}, inplace=True)\n",
    "    df_combined = pd.merge(df, df_cords, on='case_id')\n",
    "    df_combined.drop(['case_id'], axis=1, inplace=True)\n",
    "    df_combined.dropna(inplace=True) # can't use na values\n",
    "    \n",
    "    df_clusters = df_combined.groupby(['cluster_lat', 'cluster_lon']).sum().reset_index()\n",
    "    df_clusters['cons_pc'] = df_clusters['cons_ph'] / df_clusters['pph'] # divides total cluster income by people\n",
    "    df_clusters['country'] = 'mw'\n",
    "    return df_clusters[['country', 'cluster_lat', 'cluster_lon', 'cons_pc']]"
   ]
  },
  {
   "cell_type": "code",
   "execution_count": 6,
   "id": "7b8b9562",
   "metadata": {},
   "outputs": [
    {
     "name": "stderr",
     "output_type": "stream",
     "text": [
      "<ipython-input-5-310860a28dce>:32: SettingWithCopyWarning: \n",
      "A value is trying to be set on a copy of a slice from a DataFrame\n",
      "\n",
      "See the caveats in the documentation: https://pandas.pydata.org/pandas-docs/stable/user_guide/indexing.html#returning-a-view-versus-a-copy\n",
      "  df_cords.rename(columns={lat_col: 'cluster_lat', lon_col: 'cluster_lon'}, inplace=True)\n"
     ]
    }
   ],
   "source": [
    "df_mw = process_malawi()"
   ]
  },
  {
   "cell_type": "code",
   "execution_count": 7,
   "id": "3cb8bb15",
   "metadata": {},
   "outputs": [
    {
     "name": "stderr",
     "output_type": "stream",
     "text": [
      "<ipython-input-5-310860a28dce>:66: SettingWithCopyWarning: \n",
      "A value is trying to be set on a copy of a slice from a DataFrame\n",
      "\n",
      "See the caveats in the documentation: https://pandas.pydata.org/pandas-docs/stable/user_guide/indexing.html#returning-a-view-versus-a-copy\n",
      "  df_cords.rename(columns={lat_col: 'cluster_lat', lon_col: 'cluster_lon'}, inplace=True)\n",
      "<ipython-input-5-310860a28dce>:100: SettingWithCopyWarning: \n",
      "A value is trying to be set on a copy of a slice from a DataFrame\n",
      "\n",
      "See the caveats in the documentation: https://pandas.pydata.org/pandas-docs/stable/user_guide/indexing.html#returning-a-view-versus-a-copy\n",
      "  df_cords.rename(columns={lat_col: 'cluster_lat', lon_col: 'cluster_lon'}, inplace=True)\n"
     ]
    }
   ],
   "source": [
    "df_eth = process_ethiopia()\n",
    "df_ng = process_nigeria()"
   ]
  },
  {
   "cell_type": "code",
   "execution_count": 10,
   "id": "35c440f1",
   "metadata": {},
   "outputs": [
    {
     "data": {
      "text/plain": [
       "((780, 4), (523, 4), (664, 4))"
      ]
     },
     "execution_count": 10,
     "metadata": {},
     "output_type": "execute_result"
    }
   ],
   "source": [
    "df_mw.shape, df_eth.shape, df_ng.shape"
   ]
  },
  {
   "cell_type": "code",
   "execution_count": 13,
   "id": "514915f3",
   "metadata": {},
   "outputs": [
    {
     "data": {
      "text/html": [
       "<div>\n",
       "<style scoped>\n",
       "    .dataframe tbody tr th:only-of-type {\n",
       "        vertical-align: middle;\n",
       "    }\n",
       "\n",
       "    .dataframe tbody tr th {\n",
       "        vertical-align: top;\n",
       "    }\n",
       "\n",
       "    .dataframe thead th {\n",
       "        text-align: right;\n",
       "    }\n",
       "</style>\n",
       "<table border=\"1\" class=\"dataframe\">\n",
       "  <thead>\n",
       "    <tr style=\"text-align: right;\">\n",
       "      <th></th>\n",
       "      <th>country</th>\n",
       "      <th>cluster_lat</th>\n",
       "      <th>cluster_lon</th>\n",
       "      <th>cons_pc</th>\n",
       "    </tr>\n",
       "  </thead>\n",
       "  <tbody>\n",
       "    <tr>\n",
       "      <th>0</th>\n",
       "      <td>ng</td>\n",
       "      <td>4.315786</td>\n",
       "      <td>6.268753</td>\n",
       "      <td>4.317717</td>\n",
       "    </tr>\n",
       "    <tr>\n",
       "      <th>1</th>\n",
       "      <td>ng</td>\n",
       "      <td>4.328719</td>\n",
       "      <td>6.308172</td>\n",
       "      <td>4.880711</td>\n",
       "    </tr>\n",
       "    <tr>\n",
       "      <th>2</th>\n",
       "      <td>ng</td>\n",
       "      <td>4.398427</td>\n",
       "      <td>7.183962</td>\n",
       "      <td>8.767258</td>\n",
       "    </tr>\n",
       "    <tr>\n",
       "      <th>3</th>\n",
       "      <td>ng</td>\n",
       "      <td>4.425192</td>\n",
       "      <td>7.166935</td>\n",
       "      <td>10.774504</td>\n",
       "    </tr>\n",
       "    <tr>\n",
       "      <th>4</th>\n",
       "      <td>ng</td>\n",
       "      <td>4.619377</td>\n",
       "      <td>7.684946</td>\n",
       "      <td>5.191333</td>\n",
       "    </tr>\n",
       "    <tr>\n",
       "      <th>...</th>\n",
       "      <td>...</td>\n",
       "      <td>...</td>\n",
       "      <td>...</td>\n",
       "      <td>...</td>\n",
       "    </tr>\n",
       "    <tr>\n",
       "      <th>659</th>\n",
       "      <td>ng</td>\n",
       "      <td>13.202805</td>\n",
       "      <td>7.721468</td>\n",
       "      <td>1.165778</td>\n",
       "    </tr>\n",
       "    <tr>\n",
       "      <th>660</th>\n",
       "      <td>ng</td>\n",
       "      <td>13.339897</td>\n",
       "      <td>5.214480</td>\n",
       "      <td>2.710443</td>\n",
       "    </tr>\n",
       "    <tr>\n",
       "      <th>661</th>\n",
       "      <td>ng</td>\n",
       "      <td>13.555542</td>\n",
       "      <td>6.246647</td>\n",
       "      <td>1.759571</td>\n",
       "    </tr>\n",
       "    <tr>\n",
       "      <th>662</th>\n",
       "      <td>ng</td>\n",
       "      <td>13.604251</td>\n",
       "      <td>5.741676</td>\n",
       "      <td>1.647506</td>\n",
       "    </tr>\n",
       "    <tr>\n",
       "      <th>663</th>\n",
       "      <td>ng</td>\n",
       "      <td>13.714247</td>\n",
       "      <td>5.557553</td>\n",
       "      <td>1.667379</td>\n",
       "    </tr>\n",
       "  </tbody>\n",
       "</table>\n",
       "<p>664 rows × 4 columns</p>\n",
       "</div>"
      ],
      "text/plain": [
       "    country  cluster_lat  cluster_lon    cons_pc\n",
       "0        ng     4.315786     6.268753   4.317717\n",
       "1        ng     4.328719     6.308172   4.880711\n",
       "2        ng     4.398427     7.183962   8.767258\n",
       "3        ng     4.425192     7.166935  10.774504\n",
       "4        ng     4.619377     7.684946   5.191333\n",
       "..      ...          ...          ...        ...\n",
       "659      ng    13.202805     7.721468   1.165778\n",
       "660      ng    13.339897     5.214480   2.710443\n",
       "661      ng    13.555542     6.246647   1.759571\n",
       "662      ng    13.604251     5.741676   1.647506\n",
       "663      ng    13.714247     5.557553   1.667379\n",
       "\n",
       "[664 rows x 4 columns]"
      ]
     },
     "execution_count": 13,
     "metadata": {},
     "output_type": "execute_result"
    }
   ],
   "source": [
    "df_ng"
   ]
  },
  {
   "cell_type": "code",
   "execution_count": 14,
   "id": "39bd24c8",
   "metadata": {},
   "outputs": [],
   "source": [
    "tifs = [geoio.GeoImage(ndir) for ndir in NIGHTLIGHTS_DIRS]"
   ]
  },
  {
   "cell_type": "code",
   "execution_count": 15,
   "id": "6da580d1",
   "metadata": {},
   "outputs": [
    {
     "data": {
      "text/plain": [
       "Class Name        : GeoImage\n",
       "Driver Name       : GTiff\n",
       "Data Type         : Float32\n",
       "File Name         : ..\\data/nightlights/viirs_2015_00N060W.tif\n",
       "File List         : ['..\\\\data/nightlights/viirs_2015_00N060W.tif']\n",
       "Dimensions        : (1, 28800, 15600) (nlayers, nrows, ncols)\n",
       "Resolution        : (0.0041666667, 0.0041666667) (x,y)\n",
       "Extent            : (-60.00208333335, 0.00208333335, 59.99791762665001,\n",
       "                    -64.99791718665) (ul_x, ul_y, lr_x, lr_y)\n",
       "Projection String : GEOGCS[\"WGS 84\",\n",
       "                     DATUM[\"WGS_1984\",\n",
       "                         SPHEROID[\"WGS 84\",6378137,298.257223563]],\n",
       "                     PRIMEM[\"Greenwich\",0],\n",
       "                     UNIT[\"degree\",0.0174532925199433,\n",
       "                         AUTHORITY[\"EPSG\",\"9122\"]],\n",
       "                     AXIS[\"Latitude\",NORTH],\n",
       "                     AXIS[\"Longitude\",EAST]]\n",
       "Geo Transform     : (-60.00208333335, 0.0041666667, 0.0, 0.00208333335, 0.0,\n",
       "                    -0.0041666667)\n",
       "Authority         : EPSG:9122"
      ]
     },
     "execution_count": 15,
     "metadata": {},
     "output_type": "execute_result"
    }
   ],
   "source": [
    "tifs[0]"
   ]
  },
  {
   "cell_type": "code",
   "execution_count": 16,
   "id": "4e4fec85",
   "metadata": {},
   "outputs": [
    {
     "data": {
      "text/plain": [
       "Class Name        : GeoImage\n",
       "Driver Name       : GTiff\n",
       "Data Type         : Float32\n",
       "File Name         : ..\\data/nightlights/viirs_2015_75N060W.tif\n",
       "File List         : ['..\\\\data/nightlights/viirs_2015_75N060W.tif']\n",
       "Dimensions        : (1, 28800, 18000) (nlayers, nrows, ncols)\n",
       "Resolution        : (0.0041666667, 0.0041666667) (x,y)\n",
       "Extent            : (-60.00208333335, 75.00208333335, 59.99791762665001,\n",
       "                    0.0020827333499937595) (ul_x, ul_y, lr_x, lr_y)\n",
       "Projection String : GEOGCS[\"WGS 84\",\n",
       "                     DATUM[\"WGS_1984\",\n",
       "                         SPHEROID[\"WGS 84\",6378137,298.257223563]],\n",
       "                     PRIMEM[\"Greenwich\",0],\n",
       "                     UNIT[\"degree\",0.0174532925199433,\n",
       "                         AUTHORITY[\"EPSG\",\"9122\"]],\n",
       "                     AXIS[\"Latitude\",NORTH],\n",
       "                     AXIS[\"Longitude\",EAST]]\n",
       "Geo Transform     : (-60.00208333335, 0.0041666667, 0.0, 75.00208333335, 0.0,\n",
       "                    -0.0041666667)\n",
       "Authority         : EPSG:9122"
      ]
     },
     "execution_count": 16,
     "metadata": {},
     "output_type": "execute_result"
    }
   ],
   "source": [
    "tifs[1]"
   ]
  },
  {
   "cell_type": "code",
   "execution_count": 17,
   "id": "f4a802d2",
   "metadata": {},
   "outputs": [],
   "source": [
    "tif_array = np.squeeze(tifs[0].get_data())"
   ]
  },
  {
   "cell_type": "code",
   "execution_count": 15,
   "id": "99c53375",
   "metadata": {},
   "outputs": [
    {
     "data": {
      "text/plain": [
       "(15600, 28800)"
      ]
     },
     "execution_count": 15,
     "metadata": {},
     "output_type": "execute_result"
    }
   ],
   "source": [
    "tif_array.shape"
   ]
  },
  {
   "cell_type": "code",
   "execution_count": 18,
   "id": "ffb4c58e",
   "metadata": {},
   "outputs": [],
   "source": [
    "def add_nightlights(df, tif, tif_array):\n",
    "    ''' \n",
    "    This takes a dataframe with columns cluster_lat, cluster_lon and finds the average \n",
    "    nightlights in 2015 using a 10kmx10km box around the point\n",
    "    \n",
    "    I try all the nighlights tifs until a match is found, or none are left upon which an error is raised\n",
    "    '''\n",
    "    cluster_nightlights = []\n",
    "    for i,r in df.iterrows():\n",
    "        min_lat, min_lon, max_lat, max_lon = create_space(r.cluster_lat, r.cluster_lon)\n",
    "        \n",
    "        xminPixel, ymaxPixel = tif.proj_to_raster(min_lon, min_lat)\n",
    "        xmaxPixel, yminPixel = tif.proj_to_raster(max_lon, max_lat)\n",
    "        assert xminPixel < xmaxPixel, print(r.cluster_lat, r.cluster_lon)\n",
    "        assert yminPixel < ymaxPixel, print(r.cluster_lat, r.cluster_lon)\n",
    "        if xminPixel < 0 or xmaxPixel >= tif_array.shape[1]:\n",
    "            print(f\"no match for {r.cluster_lat}, {r.cluster_lon}\")\n",
    "            raise ValueError()\n",
    "        elif yminPixel < 0 or ymaxPixel >= tif_array.shape[0]:\n",
    "            print(f\"no match for {r.cluster_lat}, {r.cluster_lon}\")\n",
    "            raise ValueError()\n",
    "        xminPixel, yminPixel, xmaxPixel, ymaxPixel = int(xminPixel), int(yminPixel), int(xmaxPixel), int(ymaxPixel)\n",
    "        cluster_nightlights.append(tif_array[yminPixel:ymaxPixel,xminPixel:xmaxPixel].mean())\n",
    "        \n",
    "    df['nightlights'] = cluster_nightlights"
   ]
  },
  {
   "cell_type": "code",
   "execution_count": 19,
   "id": "07a5fb12",
   "metadata": {},
   "outputs": [],
   "source": [
    "add_nightlights(df_mw, tifs[0], tif_array)"
   ]
  },
  {
   "cell_type": "code",
   "execution_count": 20,
   "id": "a2dacddf",
   "metadata": {},
   "outputs": [
    {
     "data": {
      "text/html": [
       "<div>\n",
       "<style scoped>\n",
       "    .dataframe tbody tr th:only-of-type {\n",
       "        vertical-align: middle;\n",
       "    }\n",
       "\n",
       "    .dataframe tbody tr th {\n",
       "        vertical-align: top;\n",
       "    }\n",
       "\n",
       "    .dataframe thead th {\n",
       "        text-align: right;\n",
       "    }\n",
       "</style>\n",
       "<table border=\"1\" class=\"dataframe\">\n",
       "  <thead>\n",
       "    <tr style=\"text-align: right;\">\n",
       "      <th></th>\n",
       "      <th>country</th>\n",
       "      <th>cluster_lat</th>\n",
       "      <th>cluster_lon</th>\n",
       "      <th>cons_pc</th>\n",
       "      <th>nightlights</th>\n",
       "    </tr>\n",
       "  </thead>\n",
       "  <tbody>\n",
       "    <tr>\n",
       "      <th>0</th>\n",
       "      <td>mw</td>\n",
       "      <td>-17.095150</td>\n",
       "      <td>35.217213</td>\n",
       "      <td>1.423239</td>\n",
       "      <td>0.025206</td>\n",
       "    </tr>\n",
       "    <tr>\n",
       "      <th>1</th>\n",
       "      <td>mw</td>\n",
       "      <td>-17.092351</td>\n",
       "      <td>35.114643</td>\n",
       "      <td>1.266204</td>\n",
       "      <td>0.000000</td>\n",
       "    </tr>\n",
       "    <tr>\n",
       "      <th>2</th>\n",
       "      <td>mw</td>\n",
       "      <td>-17.016698</td>\n",
       "      <td>35.079629</td>\n",
       "      <td>1.566870</td>\n",
       "      <td>0.000000</td>\n",
       "    </tr>\n",
       "    <tr>\n",
       "      <th>3</th>\n",
       "      <td>mw</td>\n",
       "      <td>-16.977243</td>\n",
       "      <td>35.205706</td>\n",
       "      <td>1.669245</td>\n",
       "      <td>0.008266</td>\n",
       "    </tr>\n",
       "    <tr>\n",
       "      <th>4</th>\n",
       "      <td>mw</td>\n",
       "      <td>-16.956385</td>\n",
       "      <td>35.168967</td>\n",
       "      <td>1.089891</td>\n",
       "      <td>0.002295</td>\n",
       "    </tr>\n",
       "    <tr>\n",
       "      <th>...</th>\n",
       "      <td>...</td>\n",
       "      <td>...</td>\n",
       "      <td>...</td>\n",
       "      <td>...</td>\n",
       "      <td>...</td>\n",
       "    </tr>\n",
       "    <tr>\n",
       "      <th>775</th>\n",
       "      <td>mw</td>\n",
       "      <td>-9.591378</td>\n",
       "      <td>33.057450</td>\n",
       "      <td>1.409932</td>\n",
       "      <td>0.000000</td>\n",
       "    </tr>\n",
       "    <tr>\n",
       "      <th>776</th>\n",
       "      <td>mw</td>\n",
       "      <td>-9.550397</td>\n",
       "      <td>33.291558</td>\n",
       "      <td>1.242801</td>\n",
       "      <td>0.000000</td>\n",
       "    </tr>\n",
       "    <tr>\n",
       "      <th>777</th>\n",
       "      <td>mw</td>\n",
       "      <td>-9.519230</td>\n",
       "      <td>33.139193</td>\n",
       "      <td>1.804122</td>\n",
       "      <td>0.003557</td>\n",
       "    </tr>\n",
       "    <tr>\n",
       "      <th>778</th>\n",
       "      <td>mw</td>\n",
       "      <td>-9.507538</td>\n",
       "      <td>33.259649</td>\n",
       "      <td>1.791725</td>\n",
       "      <td>0.000000</td>\n",
       "    </tr>\n",
       "    <tr>\n",
       "      <th>779</th>\n",
       "      <td>mw</td>\n",
       "      <td>-9.429667</td>\n",
       "      <td>33.022118</td>\n",
       "      <td>1.534702</td>\n",
       "      <td>0.000448</td>\n",
       "    </tr>\n",
       "  </tbody>\n",
       "</table>\n",
       "<p>780 rows × 5 columns</p>\n",
       "</div>"
      ],
      "text/plain": [
       "    country  cluster_lat  cluster_lon   cons_pc  nightlights\n",
       "0        mw   -17.095150    35.217213  1.423239     0.025206\n",
       "1        mw   -17.092351    35.114643  1.266204     0.000000\n",
       "2        mw   -17.016698    35.079629  1.566870     0.000000\n",
       "3        mw   -16.977243    35.205706  1.669245     0.008266\n",
       "4        mw   -16.956385    35.168967  1.089891     0.002295\n",
       "..      ...          ...          ...       ...          ...\n",
       "775      mw    -9.591378    33.057450  1.409932     0.000000\n",
       "776      mw    -9.550397    33.291558  1.242801     0.000000\n",
       "777      mw    -9.519230    33.139193  1.804122     0.003557\n",
       "778      mw    -9.507538    33.259649  1.791725     0.000000\n",
       "779      mw    -9.429667    33.022118  1.534702     0.000448\n",
       "\n",
       "[780 rows x 5 columns]"
      ]
     },
     "execution_count": 20,
     "metadata": {},
     "output_type": "execute_result"
    }
   ],
   "source": [
    "df_mw"
   ]
  },
  {
   "cell_type": "code",
   "execution_count": 21,
   "id": "76bf5ffd",
   "metadata": {},
   "outputs": [
    {
     "data": {
      "text/plain": [
       "0"
      ]
     },
     "execution_count": 21,
     "metadata": {},
     "output_type": "execute_result"
    }
   ],
   "source": [
    "del tif_array\n",
    "import gc\n",
    "gc.collect()"
   ]
  },
  {
   "cell_type": "code",
   "execution_count": 22,
   "id": "f470315e",
   "metadata": {},
   "outputs": [],
   "source": [
    "tif_array = np.squeeze(tifs[1].get_data())"
   ]
  },
  {
   "cell_type": "code",
   "execution_count": 23,
   "id": "ba5c2272",
   "metadata": {},
   "outputs": [],
   "source": [
    "add_nightlights(df_eth, tifs[1], tif_array)\n",
    "add_nightlights(df_ng, tifs[1], tif_array)"
   ]
  },
  {
   "cell_type": "code",
   "execution_count": 24,
   "id": "b2b44a24",
   "metadata": {},
   "outputs": [
    {
     "data": {
      "text/plain": [
       "0.6727544"
      ]
     },
     "execution_count": 24,
     "metadata": {},
     "output_type": "execute_result"
    }
   ],
   "source": [
    "df_eth['nightlights'].mean()"
   ]
  },
  {
   "cell_type": "code",
   "execution_count": 25,
   "id": "a4b0f8de",
   "metadata": {},
   "outputs": [
    {
     "name": "stderr",
     "output_type": "stream",
     "text": [
      "<ipython-input-25-6428fa58dd1e>:1: FutureWarning: The default value of numeric_only in DataFrame.corr is deprecated. In a future version, it will default to False. Select only valid columns or specify the value of numeric_only to silence this warning.\n",
      "  df_mw.corr()\n"
     ]
    },
    {
     "data": {
      "text/html": [
       "<div>\n",
       "<style scoped>\n",
       "    .dataframe tbody tr th:only-of-type {\n",
       "        vertical-align: middle;\n",
       "    }\n",
       "\n",
       "    .dataframe tbody tr th {\n",
       "        vertical-align: top;\n",
       "    }\n",
       "\n",
       "    .dataframe thead th {\n",
       "        text-align: right;\n",
       "    }\n",
       "</style>\n",
       "<table border=\"1\" class=\"dataframe\">\n",
       "  <thead>\n",
       "    <tr style=\"text-align: right;\">\n",
       "      <th></th>\n",
       "      <th>cluster_lat</th>\n",
       "      <th>cluster_lon</th>\n",
       "      <th>cons_pc</th>\n",
       "      <th>nightlights</th>\n",
       "    </tr>\n",
       "  </thead>\n",
       "  <tbody>\n",
       "    <tr>\n",
       "      <th>cluster_lat</th>\n",
       "      <td>1.000000</td>\n",
       "      <td>-0.702793</td>\n",
       "      <td>-0.026563</td>\n",
       "      <td>-0.083273</td>\n",
       "    </tr>\n",
       "    <tr>\n",
       "      <th>cluster_lon</th>\n",
       "      <td>-0.702793</td>\n",
       "      <td>1.000000</td>\n",
       "      <td>-0.002947</td>\n",
       "      <td>-0.033367</td>\n",
       "    </tr>\n",
       "    <tr>\n",
       "      <th>cons_pc</th>\n",
       "      <td>-0.026563</td>\n",
       "      <td>-0.002947</td>\n",
       "      <td>1.000000</td>\n",
       "      <td>0.384939</td>\n",
       "    </tr>\n",
       "    <tr>\n",
       "      <th>nightlights</th>\n",
       "      <td>-0.083273</td>\n",
       "      <td>-0.033367</td>\n",
       "      <td>0.384939</td>\n",
       "      <td>1.000000</td>\n",
       "    </tr>\n",
       "  </tbody>\n",
       "</table>\n",
       "</div>"
      ],
      "text/plain": [
       "             cluster_lat  cluster_lon   cons_pc  nightlights\n",
       "cluster_lat     1.000000    -0.702793 -0.026563    -0.083273\n",
       "cluster_lon    -0.702793     1.000000 -0.002947    -0.033367\n",
       "cons_pc        -0.026563    -0.002947  1.000000     0.384939\n",
       "nightlights    -0.083273    -0.033367  0.384939     1.000000"
      ]
     },
     "execution_count": 25,
     "metadata": {},
     "output_type": "execute_result"
    }
   ],
   "source": [
    "df_mw.corr()"
   ]
  },
  {
   "cell_type": "code",
   "execution_count": 26,
   "id": "5cbfc07d",
   "metadata": {},
   "outputs": [],
   "source": [
    "for country in ['malawi_2016', 'ethiopia_2016', 'nigeria_2016']:\n",
    "    os.makedirs(os.path.join(COUNTRIES_DIR, country, 'processed'), exist_ok=True)"
   ]
  },
  {
   "cell_type": "code",
   "execution_count": 27,
   "id": "5e2b6558",
   "metadata": {},
   "outputs": [],
   "source": [
    "df_mw.to_csv(os.path.join(COUNTRIES_DIR, 'malawi_2016', 'processed/clusters.csv'), index=False)"
   ]
  },
  {
   "cell_type": "code",
   "execution_count": 29,
   "id": "bd49253e",
   "metadata": {},
   "outputs": [],
   "source": [
    "df_eth.to_csv(os.path.join(COUNTRIES_DIR, 'ethiopia_2016', 'processed/clusters.csv'), index=False)"
   ]
  },
  {
   "cell_type": "code",
   "execution_count": 31,
   "id": "d2637daf",
   "metadata": {},
   "outputs": [],
   "source": [
    "df_ng.to_csv(os.path.join(COUNTRIES_DIR, 'nigeria_2016', 'processed/clusters.csv'), index=False)"
   ]
  },
  {
   "cell_type": "code",
   "execution_count": null,
   "id": "f03f1ebd",
   "metadata": {},
   "outputs": [],
   "source": []
  }
 ],
 "metadata": {
  "kernelspec": {
   "display_name": "workingenv",
   "language": "python",
   "name": "workingenv"
  },
  "language_info": {
   "codemirror_mode": {
    "name": "ipython",
    "version": 3
   },
   "file_extension": ".py",
   "mimetype": "text/x-python",
   "name": "python",
   "nbconvert_exporter": "python",
   "pygments_lexer": "ipython3",
   "version": "3.9.16"
  }
 },
 "nbformat": 4,
 "nbformat_minor": 5
}
