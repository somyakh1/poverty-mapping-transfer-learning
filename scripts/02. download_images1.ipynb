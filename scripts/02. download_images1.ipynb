{
 "cells": [
  {
   "cell_type": "code",
   "execution_count": 1,
   "id": "0be193bf",
   "metadata": {},
   "outputs": [],
   "source": [
    "import math\n",
    "import random\n",
    "import os\n",
    "import numpy as np\n",
    "import pandas as pd\n",
    "from osgeo import gdal, osr\n",
    "from tqdm.notebook import tqdm\n",
    "import sklearn\n",
    "\n",
    "#import requests\n",
    "#import matplotlib.pyplot as plt\n",
    "from io import BytesIO\n",
    "import logging\n",
    "import time"
   ]
  },
  {
   "cell_type": "code",
   "execution_count": 33,
   "id": "b0fae0a5",
   "metadata": {},
   "outputs": [],
   "source": [
    "BASE_DIR = '..'\n",
    "COUNTRIES_DIR = os.path.join(BASE_DIR, 'data', 'countries')\n",
    "PROCESSED_DIR = os.path.join(BASE_DIR, 'data', 'processed')\n",
    "# can try using the google downloader, in which case change this to be your google api token\n",
    "ACCESS_TOKEN_DIR = os.path.join(BASE_DIR, 'google_api_key.txt')\n",
    "\n",
    "RANDOM_SEED = 7 # for reproducibility\n",
    "\n",
    "# each cluster must have AT LEAST this many images after doing nightlights processing\n",
    "MIN_IMAGES_PER_CLUSTER = 10"
   ]
  },
  {
   "cell_type": "code",
   "execution_count": 3,
   "id": "b4789b7f",
   "metadata": {},
   "outputs": [],
   "source": [
    "import sys\n",
    "sys.path.append(BASE_DIR)\n",
    "from funcs import create_space"
   ]
  },
  {
   "cell_type": "markdown",
   "id": "0f7d16d9",
   "metadata": {},
   "source": [
    "### Generate Download Locations"
   ]
  },
  {
   "cell_type": "code",
   "execution_count": 4,
   "id": "7121a056",
   "metadata": {},
   "outputs": [],
   "source": [
    "df_mw = pd.read_csv(os.path.join(COUNTRIES_DIR, 'malawi_2016', 'processed/clusters.csv'))\n",
    "df_eth = pd.read_csv(os.path.join(COUNTRIES_DIR, 'ethiopia_2016', 'processed/clusters.csv'))\n",
    "df_ng = pd.read_csv(os.path.join(COUNTRIES_DIR, 'nigeria_2016', 'processed/clusters.csv'))"
   ]
  },
  {
   "cell_type": "code",
   "execution_count": null,
   "id": "c3817c22",
   "metadata": {},
   "outputs": [],
   "source": [
    "for country in ['malawi_2016', 'ethiopia_2016', 'nigeria_2016']:\n",
    "    os.makedirs(os.path.join(COUNTRIES_DIR, country, 'images'), exist_ok=False)"
   ]
  },
  {
   "cell_type": "code",
   "execution_count": 6,
   "id": "1588b90b",
   "metadata": {},
   "outputs": [],
   "source": [
    "def generate_download_locations(df, ipc=50):\n",
    "    '''\n",
    "    Takes a dataframe with columns cluster_lat, cluster_lon\n",
    "    Generates a 10km x 10km bounding box around the cluster and samples \n",
    "    ipc images per cluster. First samples in a grid fashion, then any \n",
    "    remaining points are randomly (uniformly) chosen\n",
    "    '''\n",
    "    np.random.seed(RANDOM_SEED) # for reproducability\n",
    "    df_download = {'image_name': [], 'image_lat': [], 'image_lon': [], 'cluster_lat': [], \n",
    "                   'cluster_lon': [], 'cons_pc': [], 'nightlights': [] }\n",
    "    \n",
    "    # side length of square for uniform distribution\n",
    "    edge_num = math.floor(math.sqrt(ipc))\n",
    "    for _, r in df.iterrows():\n",
    "        min_lat, min_lon, max_lat, max_lon = create_space(r.cluster_lat, r.cluster_lon)\n",
    "        lats = np.linspace(min_lat, max_lat, edge_num).tolist()\n",
    "        lons = np.linspace(min_lon, max_lon, edge_num).tolist()\n",
    "\n",
    "        # performs cartesian product\n",
    "        uniform_points = np.transpose([np.tile(lats, len(lons)), np.repeat(lons, len(lats))])\n",
    "        \n",
    "        lats = uniform_points[:,0].tolist()\n",
    "        lons = uniform_points[:,1].tolist()\n",
    "        \n",
    "        # fills the remainder with random points\n",
    "        for _ in range(ipc - edge_num * edge_num):\n",
    "            lat = random.uniform(min_lat, max_lat)\n",
    "            lon = random.uniform(min_lon, max_lon)\n",
    "            lats.append(lat)\n",
    "            lons.append(lon)\n",
    "        \n",
    "        # add to dict\n",
    "        for lat, lon in zip(lats, lons):\n",
    "            # image name is going to be image_lat_image_lon_cluster_lat_cluster_lon.png\n",
    "            image_name = str(lat) + '_' + str(lon) + '_' + str(r.cluster_lat) + '_' + str(r.cluster_lon) + '.png'\n",
    "            df_download['image_name'].append(image_name)\n",
    "            df_download['image_lat'].append(lat)\n",
    "            df_download['image_lon'].append(lon)\n",
    "            df_download['cluster_lat'].append(r.cluster_lat)\n",
    "            df_download['cluster_lon'].append(r.cluster_lon)\n",
    "            df_download['cons_pc'].append(r.cons_pc)\n",
    "            df_download['nightlights'].append(r.nightlights)\n",
    "        \n",
    "    return pd.DataFrame.from_dict(df_download)"
   ]
  },
  {
   "cell_type": "code",
   "execution_count": 7,
   "id": "0cdb5366",
   "metadata": {},
   "outputs": [],
   "source": [
    "df_mw_download = generate_download_locations(df_mw)\n",
    "df_eth_download = generate_download_locations(df_eth)\n",
    "df_ng_download = generate_download_locations(df_ng)"
   ]
  },
  {
   "cell_type": "code",
   "execution_count": 8,
   "id": "377bab8f",
   "metadata": {},
   "outputs": [
    {
     "data": {
      "text/plain": [
       "((39000, 7), (26150, 7), (33200, 7))"
      ]
     },
     "execution_count": 8,
     "metadata": {},
     "output_type": "execute_result"
    }
   ],
   "source": [
    "df_mw_download.shape, df_eth_download.shape, df_ng_download.shape"
   ]
  },
  {
   "cell_type": "code",
   "execution_count": 9,
   "id": "976eaaef",
   "metadata": {},
   "outputs": [
    {
     "data": {
      "text/html": [
       "<div>\n",
       "<style scoped>\n",
       "    .dataframe tbody tr th:only-of-type {\n",
       "        vertical-align: middle;\n",
       "    }\n",
       "\n",
       "    .dataframe tbody tr th {\n",
       "        vertical-align: top;\n",
       "    }\n",
       "\n",
       "    .dataframe thead th {\n",
       "        text-align: right;\n",
       "    }\n",
       "</style>\n",
       "<table border=\"1\" class=\"dataframe\">\n",
       "  <thead>\n",
       "    <tr style=\"text-align: right;\">\n",
       "      <th></th>\n",
       "      <th>image_name</th>\n",
       "      <th>image_lat</th>\n",
       "      <th>image_lon</th>\n",
       "      <th>cluster_lat</th>\n",
       "      <th>cluster_lon</th>\n",
       "      <th>cons_pc</th>\n",
       "      <th>nightlights</th>\n",
       "    </tr>\n",
       "  </thead>\n",
       "  <tbody>\n",
       "    <tr>\n",
       "      <th>0</th>\n",
       "      <td>-17.140065764205975_35.17229723579403_-17.0951...</td>\n",
       "      <td>-17.140066</td>\n",
       "      <td>35.172297</td>\n",
       "      <td>-17.09515</td>\n",
       "      <td>35.217213</td>\n",
       "      <td>1.423239</td>\n",
       "      <td>0.025206</td>\n",
       "    </tr>\n",
       "    <tr>\n",
       "      <th>1</th>\n",
       "      <td>-17.125093842803985_35.17229723579403_-17.0951...</td>\n",
       "      <td>-17.125094</td>\n",
       "      <td>35.172297</td>\n",
       "      <td>-17.09515</td>\n",
       "      <td>35.217213</td>\n",
       "      <td>1.423239</td>\n",
       "      <td>0.025206</td>\n",
       "    </tr>\n",
       "    <tr>\n",
       "      <th>2</th>\n",
       "      <td>-17.11012192140199_35.17229723579403_-17.09515...</td>\n",
       "      <td>-17.110122</td>\n",
       "      <td>35.172297</td>\n",
       "      <td>-17.09515</td>\n",
       "      <td>35.217213</td>\n",
       "      <td>1.423239</td>\n",
       "      <td>0.025206</td>\n",
       "    </tr>\n",
       "    <tr>\n",
       "      <th>3</th>\n",
       "      <td>-17.09515_35.17229723579403_-17.09515_35.21721...</td>\n",
       "      <td>-17.095150</td>\n",
       "      <td>35.172297</td>\n",
       "      <td>-17.09515</td>\n",
       "      <td>35.217213</td>\n",
       "      <td>1.423239</td>\n",
       "      <td>0.025206</td>\n",
       "    </tr>\n",
       "    <tr>\n",
       "      <th>4</th>\n",
       "      <td>-17.08017807859801_35.17229723579403_-17.09515...</td>\n",
       "      <td>-17.080178</td>\n",
       "      <td>35.172297</td>\n",
       "      <td>-17.09515</td>\n",
       "      <td>35.217213</td>\n",
       "      <td>1.423239</td>\n",
       "      <td>0.025206</td>\n",
       "    </tr>\n",
       "  </tbody>\n",
       "</table>\n",
       "</div>"
      ],
      "text/plain": [
       "                                          image_name  image_lat  image_lon  \\\n",
       "0  -17.140065764205975_35.17229723579403_-17.0951... -17.140066  35.172297   \n",
       "1  -17.125093842803985_35.17229723579403_-17.0951... -17.125094  35.172297   \n",
       "2  -17.11012192140199_35.17229723579403_-17.09515... -17.110122  35.172297   \n",
       "3  -17.09515_35.17229723579403_-17.09515_35.21721... -17.095150  35.172297   \n",
       "4  -17.08017807859801_35.17229723579403_-17.09515... -17.080178  35.172297   \n",
       "\n",
       "   cluster_lat  cluster_lon   cons_pc  nightlights  \n",
       "0    -17.09515    35.217213  1.423239     0.025206  \n",
       "1    -17.09515    35.217213  1.423239     0.025206  \n",
       "2    -17.09515    35.217213  1.423239     0.025206  \n",
       "3    -17.09515    35.217213  1.423239     0.025206  \n",
       "4    -17.09515    35.217213  1.423239     0.025206  "
      ]
     },
     "execution_count": 9,
     "metadata": {},
     "output_type": "execute_result"
    }
   ],
   "source": [
    "df_mw_download.head()"
   ]
  },
  {
   "cell_type": "code",
   "execution_count": 10,
   "id": "66fd571f",
   "metadata": {},
   "outputs": [],
   "source": [
    "df_mw_download['country'] = 'mw'\n",
    "df_eth_download['country'] = 'eth'\n",
    "df_ng_download['country'] = 'ng'"
   ]
  },
  {
   "cell_type": "code",
   "execution_count": 11,
   "id": "0338ffac",
   "metadata": {},
   "outputs": [],
   "source": [
    "df_potential_download = pd.concat([df_mw_download, df_eth_download, df_ng_download], axis=0)\n",
    "df_potential_download.reset_index(drop=True, inplace=True)"
   ]
  },
  {
   "cell_type": "code",
   "execution_count": 12,
   "id": "b7f769de",
   "metadata": {},
   "outputs": [
    {
     "data": {
      "text/html": [
       "<div>\n",
       "<style scoped>\n",
       "    .dataframe tbody tr th:only-of-type {\n",
       "        vertical-align: middle;\n",
       "    }\n",
       "\n",
       "    .dataframe tbody tr th {\n",
       "        vertical-align: top;\n",
       "    }\n",
       "\n",
       "    .dataframe thead th {\n",
       "        text-align: right;\n",
       "    }\n",
       "</style>\n",
       "<table border=\"1\" class=\"dataframe\">\n",
       "  <thead>\n",
       "    <tr style=\"text-align: right;\">\n",
       "      <th></th>\n",
       "      <th>image_name</th>\n",
       "      <th>image_lat</th>\n",
       "      <th>image_lon</th>\n",
       "      <th>cluster_lat</th>\n",
       "      <th>cluster_lon</th>\n",
       "      <th>cons_pc</th>\n",
       "      <th>nightlights</th>\n",
       "      <th>country</th>\n",
       "    </tr>\n",
       "  </thead>\n",
       "  <tbody>\n",
       "    <tr>\n",
       "      <th>0</th>\n",
       "      <td>-17.140065764205975_35.17229723579403_-17.0951...</td>\n",
       "      <td>-17.140066</td>\n",
       "      <td>35.172297</td>\n",
       "      <td>-17.09515</td>\n",
       "      <td>35.217213</td>\n",
       "      <td>1.423239</td>\n",
       "      <td>0.025206</td>\n",
       "      <td>mw</td>\n",
       "    </tr>\n",
       "    <tr>\n",
       "      <th>1</th>\n",
       "      <td>-17.125093842803985_35.17229723579403_-17.0951...</td>\n",
       "      <td>-17.125094</td>\n",
       "      <td>35.172297</td>\n",
       "      <td>-17.09515</td>\n",
       "      <td>35.217213</td>\n",
       "      <td>1.423239</td>\n",
       "      <td>0.025206</td>\n",
       "      <td>mw</td>\n",
       "    </tr>\n",
       "    <tr>\n",
       "      <th>2</th>\n",
       "      <td>-17.11012192140199_35.17229723579403_-17.09515...</td>\n",
       "      <td>-17.110122</td>\n",
       "      <td>35.172297</td>\n",
       "      <td>-17.09515</td>\n",
       "      <td>35.217213</td>\n",
       "      <td>1.423239</td>\n",
       "      <td>0.025206</td>\n",
       "      <td>mw</td>\n",
       "    </tr>\n",
       "    <tr>\n",
       "      <th>3</th>\n",
       "      <td>-17.09515_35.17229723579403_-17.09515_35.21721...</td>\n",
       "      <td>-17.095150</td>\n",
       "      <td>35.172297</td>\n",
       "      <td>-17.09515</td>\n",
       "      <td>35.217213</td>\n",
       "      <td>1.423239</td>\n",
       "      <td>0.025206</td>\n",
       "      <td>mw</td>\n",
       "    </tr>\n",
       "    <tr>\n",
       "      <th>4</th>\n",
       "      <td>-17.08017807859801_35.17229723579403_-17.09515...</td>\n",
       "      <td>-17.080178</td>\n",
       "      <td>35.172297</td>\n",
       "      <td>-17.09515</td>\n",
       "      <td>35.217213</td>\n",
       "      <td>1.423239</td>\n",
       "      <td>0.025206</td>\n",
       "      <td>mw</td>\n",
       "    </tr>\n",
       "  </tbody>\n",
       "</table>\n",
       "</div>"
      ],
      "text/plain": [
       "                                          image_name  image_lat  image_lon  \\\n",
       "0  -17.140065764205975_35.17229723579403_-17.0951... -17.140066  35.172297   \n",
       "1  -17.125093842803985_35.17229723579403_-17.0951... -17.125094  35.172297   \n",
       "2  -17.11012192140199_35.17229723579403_-17.09515... -17.110122  35.172297   \n",
       "3  -17.09515_35.17229723579403_-17.09515_35.21721... -17.095150  35.172297   \n",
       "4  -17.08017807859801_35.17229723579403_-17.09515... -17.080178  35.172297   \n",
       "\n",
       "   cluster_lat  cluster_lon   cons_pc  nightlights country  \n",
       "0    -17.09515    35.217213  1.423239     0.025206      mw  \n",
       "1    -17.09515    35.217213  1.423239     0.025206      mw  \n",
       "2    -17.09515    35.217213  1.423239     0.025206      mw  \n",
       "3    -17.09515    35.217213  1.423239     0.025206      mw  \n",
       "4    -17.09515    35.217213  1.423239     0.025206      mw  "
      ]
     },
     "execution_count": 12,
     "metadata": {},
     "output_type": "execute_result"
    }
   ],
   "source": [
    "df_potential_download.head()"
   ]
  },
  {
   "cell_type": "markdown",
   "id": "096228e5",
   "metadata": {},
   "source": [
    "#### Filter Download Choices"
   ]
  },
  {
   "cell_type": "code",
   "execution_count": 13,
   "id": "b617f346",
   "metadata": {},
   "outputs": [
    {
     "name": "stdout",
     "output_type": "stream",
     "text": [
      "0.2653787493645145\n",
      "0.8647686832740213\n"
     ]
    }
   ],
   "source": [
    "# most nightlights are 0\n",
    "# let's download images that have nonzero nightlights to induce variety into the model\n",
    "print((df_potential_download['nightlights'] == 0).mean())\n",
    "print((df_potential_download['nightlights'] <= 2).mean())"
   ]
  },
  {
   "cell_type": "code",
   "execution_count": 14,
   "id": "3fdc9ff4",
   "metadata": {},
   "outputs": [],
   "source": [
    "def drop_0s(df, fr=0.1):\n",
    "    \"\"\"\n",
    "        Solves for d:\n",
    "            (c_z - d)/(n - d) = fr\n",
    "        Where d = rows to drop, c_z = num rows with zero nightlights, n = num rows, fr = frac remaining\n",
    "        \n",
    "        Yields:\n",
    "        d = (c_z - n*fr) / (1 - fr)\n",
    "    \"\"\"\n",
    "    np.random.seed(RANDOM_SEED)\n",
    "    c_z = (df['nightlights']==0).sum()\n",
    "    n = len(df)\n",
    "    assert c_z / n > fr, print(f'Dataframe already has under {fr} zeros')\n",
    "    \n",
    "    d = (c_z - n * fr) / (1 - fr)\n",
    "    d = int(d)\n",
    "    print(f'dropping: {d}')\n",
    "    \n",
    "    zero_df = df[df['nightlights']==0]\n",
    "    zero_clusters = zero_df.groupby(['cluster_lat', 'cluster_lon'])\n",
    "    per_cluster_drop = int(d / len(zero_clusters))\n",
    "    print(f'Need to drop {per_cluster_drop} per cluster with 0 nightlights')\n",
    "    \n",
    "    drop_inds = []\n",
    "    for (cluster_lat, cluster_lon), group in zero_clusters:\n",
    "        z_inds = group.index\n",
    "        clust_drop = np.random.choice(z_inds, per_cluster_drop, replace=False)\n",
    "        assert len(group) - len(clust_drop) >= MIN_IMAGES_PER_CLUSTER, print(f'dropping too many in {cluster_lat}, {cluster_lon}')\n",
    "        drop_inds += clust_drop.tolist()\n",
    "    \n",
    "    # this is how you do it purely randomly but some clusters might get wiped out\n",
    "    # z_inds = np.argwhere(df['nightlights'].values == 0).reshape(-1)\n",
    "    # drop_inds = np.random.choice(z_inds, d, replace=False)\n",
    "    return df.drop(drop_inds).reset_index(drop=True)\n",
    "\n",
    "def drop_in_range(df, lower=0, upper=2, fr=0.25):\n",
    "    \"\"\"\n",
    "        Very similar to drop_0s calculation, but more generalized. Lower and upper are inclusive.\n",
    "    \"\"\"\n",
    "    np.random.seed(RANDOM_SEED)\n",
    "    boolean_idx = ((lower <= df['nightlights']) & (df['nightlights'] <= upper))\n",
    "    c_under = boolean_idx.sum()\n",
    "    n = len(df)\n",
    "    assert c_under / n > fr, print(f'Dataframe already has under {fr} rows in the given range')\n",
    "    \n",
    "    d = (c_under - n * fr) / (1 - fr)\n",
    "    d = int(d)\n",
    "    print(f'dropping: {d}')\n",
    "    \n",
    "    select_df = df[boolean_idx]\n",
    "    select_clusters = select_df.groupby(['cluster_lat', 'cluster_lon'])\n",
    "    per_cluster_drop = int(d / len(select_clusters))\n",
    "    print(f'Need to drop {per_cluster_drop} per cluster in the given range')\n",
    "    \n",
    "    drop_inds = []\n",
    "    for (cluster_lat, cluster_lon), group in select_clusters:\n",
    "        z_inds = group.index\n",
    "        clust_drop = np.random.choice(z_inds, per_cluster_drop, replace=False)\n",
    "        assert len(group) - len(clust_drop) >= MIN_IMAGES_PER_CLUSTER, print(f'dropping too many in {cluster_lat}, {cluster_lon}')\n",
    "        drop_inds += clust_drop.tolist()\n",
    "        \n",
    "    return df.drop(drop_inds).reset_index(drop=True)"
   ]
  },
  {
   "cell_type": "code",
   "execution_count": 15,
   "id": "a8cf7304",
   "metadata": {},
   "outputs": [
    {
     "name": "stdout",
     "output_type": "stream",
     "text": [
      "dropping: 18072\n",
      "Need to drop 34 per cluster with 0 nightlights\n"
     ]
    }
   ],
   "source": [
    "df_mod_download = drop_0s(df_potential_download, fr=0.1)"
   ]
  },
  {
   "cell_type": "code",
   "execution_count": 16,
   "id": "c77c3c52",
   "metadata": {},
   "outputs": [
    {
     "data": {
      "text/plain": [
       "0.1036202575618471"
      ]
     },
     "execution_count": 16,
     "metadata": {},
     "output_type": "execute_result"
    }
   ],
   "source": [
    "(df_mod_download['nightlights'] == 0).mean()"
   ]
  },
  {
   "cell_type": "code",
   "execution_count": 17,
   "id": "986c1071",
   "metadata": {},
   "outputs": [
    {
     "name": "stdout",
     "output_type": "stream",
     "text": [
      "dropping: 46432\n",
      "Need to drop 38 per cluster in the given range\n"
     ]
    }
   ],
   "source": [
    "df_mod_download = drop_in_range(df_mod_download, lower=0.001, upper=3, fr=0.4)"
   ]
  },
  {
   "cell_type": "code",
   "execution_count": 18,
   "id": "894158de",
   "metadata": {},
   "outputs": [
    {
     "data": {
      "text/plain": [
       "0.4129874591994503"
      ]
     },
     "execution_count": 18,
     "metadata": {},
     "output_type": "execute_result"
    }
   ],
   "source": [
    "((0.001 <= df_mod_download['nightlights']) & (df_mod_download['nightlights'] <= 3)).mean()"
   ]
  },
  {
   "cell_type": "code",
   "execution_count": 19,
   "id": "e4635128",
   "metadata": {},
   "outputs": [
    {
     "data": {
      "text/plain": [
       "0.23913416938670332"
      ]
     },
     "execution_count": 19,
     "metadata": {},
     "output_type": "execute_result"
    }
   ],
   "source": [
    "# this has gone up now though\n",
    "(df_mod_download['nightlights'] == 0).mean()"
   ]
  },
  {
   "cell_type": "code",
   "execution_count": 20,
   "id": "3ffb64f4",
   "metadata": {},
   "outputs": [
    {
     "name": "stdout",
     "output_type": "stream",
     "text": [
      "dropping: 1708\n",
      "Need to drop 3 per cluster with 0 nightlights\n"
     ]
    }
   ],
   "source": [
    "df_mod_download = drop_0s(df_mod_download, fr=0.2)"
   ]
  },
  {
   "cell_type": "code",
   "execution_count": 21,
   "id": "8a45c16b",
   "metadata": {},
   "outputs": [],
   "source": [
    "from sklearn.mixture import GaussianMixture as GMM\n",
    "X = df_mod_download['nightlights'].values.reshape(-1,1)\n",
    "gmm = GMM(n_components=3).fit(X)\n",
    "labels = gmm.predict(df_mod_download['nightlights'].values.reshape(-1,1))"
   ]
  },
  {
   "cell_type": "code",
   "execution_count": 22,
   "id": "210fabac",
   "metadata": {},
   "outputs": [
    {
     "data": {
      "text/plain": [
       "(0.4829136690647482, 0.5020983213429256, 0.01498800959232614)"
      ]
     },
     "execution_count": 22,
     "metadata": {},
     "output_type": "execute_result"
    }
   ],
   "source": [
    "(labels==0).mean(), (labels==1).mean(), (labels==2).mean()"
   ]
  },
  {
   "cell_type": "code",
   "execution_count": 23,
   "id": "9d021be9",
   "metadata": {},
   "outputs": [
    {
     "data": {
      "text/plain": [
       "(0.03204921, 15.320824, 67.031136)"
      ]
     },
     "execution_count": 23,
     "metadata": {},
     "output_type": "execute_result"
    }
   ],
   "source": [
    "# these are the cutoff for the labels identified by the Guassian Mixture Model\n",
    "label0_max = df_mod_download['nightlights'][labels==0].max()\n",
    "label1_max = df_mod_download['nightlights'][labels==1].max()\n",
    "label2_max = df_mod_download['nightlights'][labels==2].max()\n",
    "\n",
    "label0_max, label1_max, label2_max"
   ]
  },
  {
   "cell_type": "code",
   "execution_count": 24,
   "id": "ba810e2b",
   "metadata": {},
   "outputs": [],
   "source": [
    "label0_max = 0.05\n",
    "label1_max = 5\n",
    "label2_max = 70"
   ]
  },
  {
   "cell_type": "code",
   "execution_count": 25,
   "id": "8984e0c3",
   "metadata": {},
   "outputs": [
    {
     "name": "stdout",
     "output_type": "stream",
     "text": [
      "0.5091726618705036\n",
      "0.32146282973621104\n",
      "0.16936450839328537\n"
     ]
    }
   ],
   "source": [
    "def query_df(df, lower, upper):\n",
    "    return df[((lower <= df['nightlights']) & (df['nightlights'] < upper))]\n",
    "\n",
    "print(len(query_df(df_mod_download, 0, label0_max)) / len(df_mod_download))\n",
    "print(len(query_df(df_mod_download, label0_max, label1_max)) / len(df_mod_download))\n",
    "print(len(query_df(df_mod_download, label1_max, label2_max)) / len(df_mod_download))"
   ]
  },
  {
   "cell_type": "code",
   "execution_count": 26,
   "id": "6e90bb5d",
   "metadata": {},
   "outputs": [
    {
     "name": "stderr",
     "output_type": "stream",
     "text": [
      "<ipython-input-26-8906f5089b05>:7: SettingWithCopyWarning: \n",
      "A value is trying to be set on a copy of a slice from a DataFrame\n",
      "\n",
      "See the caveats in the documentation: https://pandas.pydata.org/pandas-docs/stable/user_guide/indexing.html#returning-a-view-versus-a-copy\n",
      "  df['nightlights_bin'].loc[df['nightlights'] <= cutoff] = label\n"
     ]
    }
   ],
   "source": [
    "def create_nightlights_bin(df, cutoffs):\n",
    "    assert len(cutoffs) >= 2, print('need at least 2 bins')\n",
    "    cutoffs = sorted(cutoffs, reverse=True)\n",
    "    labels = list(range(len(cutoffs)))[::-1]\n",
    "    df['nightlights_bin'] = len(cutoffs)\n",
    "    for cutoff, label in zip(cutoffs, labels):\n",
    "        df['nightlights_bin'].loc[df['nightlights'] <= cutoff] = label\n",
    "\n",
    "df_download = df_mod_download.copy()\n",
    "create_nightlights_bin(df_download, cutoffs=[label0_max, label1_max, label2_max])"
   ]
  },
  {
   "cell_type": "code",
   "execution_count": 27,
   "id": "60bfcd8c",
   "metadata": {},
   "outputs": [
    {
     "data": {
      "text/plain": [
       "(0.5091726618705036, 0.32146282973621104, 0.16936450839328537)"
      ]
     },
     "execution_count": 27,
     "metadata": {},
     "output_type": "execute_result"
    }
   ],
   "source": [
    "# these should match above\n",
    "(df_download['nightlights_bin']==0).mean(), (df_download['nightlights_bin']==1).mean(), (df_download['nightlights_bin']==2).mean()"
   ]
  },
  {
   "cell_type": "code",
   "execution_count": 28,
   "id": "c68abb2d",
   "metadata": {},
   "outputs": [
    {
     "data": {
      "text/plain": [
       "(33360, 9)"
      ]
     },
     "execution_count": 28,
     "metadata": {},
     "output_type": "execute_result"
    }
   ],
   "source": [
    "df_download.shape"
   ]
  },
  {
   "cell_type": "code",
   "execution_count": 29,
   "id": "472fc156",
   "metadata": {},
   "outputs": [],
   "source": [
    "os.makedirs(PROCESSED_DIR, exist_ok=True)"
   ]
  },
  {
   "cell_type": "code",
   "execution_count": 30,
   "id": "d4680d85",
   "metadata": {},
   "outputs": [],
   "source": [
    "df_download.to_csv(os.path.join(PROCESSED_DIR, 'image_download_locs.csv'), index=False)"
   ]
  },
  {
   "cell_type": "markdown",
   "id": "19a17073",
   "metadata": {},
   "source": [
    "## Download Images\n",
    "If the script breaks, you can restart here by uncommenting the line below and running the below code again. It won't download images you have already downloaded."
   ]
  },
  {
   "cell_type": "code",
   "execution_count": 31,
   "id": "61c7e207",
   "metadata": {},
   "outputs": [],
   "source": [
    "# df_download = pd.read_csv(os.path.join(PROCESSED_DIR, 'image_download_locs.csv'))"
   ]
  },
  {
   "cell_type": "code",
   "execution_count": 57,
   "id": "9fed1fa9",
   "metadata": {},
   "outputs": [],
   "source": [
    "from google_satellite import GoogleDownloader"
   ]
  },
  {
   "cell_type": "code",
   "execution_count": null,
   "id": "fa39abac",
   "metadata": {},
   "outputs": [],
   "source": [
    "lat = 38.441332\n",
    "lon = -105.234751\n",
    "min_year = 2016\n",
    "min_month = 1\n",
    "max_year = 2016\n",
    "max_month = 12\n",
    "\n",
    "access = open(ACCESS_TOKEN_DIR, 'r').readlines()[0].strip()\n",
    "pd = GoogleDownloader(access)\n",
    "pd.download(lat, lon, zoom=14)"
   ]
  }
 ],
 "metadata": {
  "kernelspec": {
   "display_name": "workingenv",
   "language": "python",
   "name": "workingenv"
  },
  "language_info": {
   "codemirror_mode": {
    "name": "ipython",
    "version": 3
   },
   "file_extension": ".py",
   "mimetype": "text/x-python",
   "name": "python",
   "nbconvert_exporter": "python",
   "pygments_lexer": "ipython3",
   "version": "3.9.16"
  }
 },
 "nbformat": 4,
 "nbformat_minor": 5
}
